{
 "cells": [
  {
   "cell_type": "code",
   "execution_count": 2,
   "id": "68d4d07b-71a0-4e5b-8134-eac3b2965a94",
   "metadata": {},
   "outputs": [
    {
     "name": "stderr",
     "output_type": "stream",
     "text": [
      "/Library/Frameworks/Python.framework/Versions/3.7/lib/python3.7/site-packages/requests/__init__.py:104: RequestsDependencyWarning: urllib3 (1.26.9) or chardet (5.0.0)/charset_normalizer (2.0.12) doesn't match a supported version!\n",
      "  RequestsDependencyWarning)\n"
     ]
    }
   ],
   "source": [
    "from pathlib import Path\n",
    "import dash\n",
    "from dash import dcc\n",
    "from dash import html\n",
    "from dash.dependencies import Input, Output\n",
    "import pandas as pd\n",
    "import numpy as np\n",
    "import plotly.graph_objs as go\n",
    "import plotly.express as px"
   ]
  },
  {
   "cell_type": "code",
   "execution_count": 3,
   "id": "62160a1a-e3f9-4274-b254-b195ed865e94",
   "metadata": {},
   "outputs": [],
   "source": [
    "csv_file_path = Path(\"assets/pds.csv\")\n",
    "df_covid = pd.read_csv(csv_file_path)\n",
    "\n",
    "# Convert the Index 'Date of Death' to datetime\n",
    "df_covid['DATE_OF_DEATH'] = pd.to_datetime(df_covid['DATE_OF_DEATH'])\n",
    "df_covid.set_index('DATE_OF_DEATH', inplace=True)\n",
    "\n",
    "# Convert Age and Total Morbidities to Integer\n",
    "df_covid['AGE'] = pd.to_numeric(df_covid['AGE'], errors='coerce').astype('Int64')\n",
    "df_covid['TOTAL_MORBIDITIES'] = pd.to_numeric(df_covid['TOTAL_MORBIDITIES'], errors='coerce').astype('Int64')"
   ]
  },
  {
   "cell_type": "code",
   "execution_count": null,
   "id": "09525030-9677-40ea-88fd-4671962985bb",
   "metadata": {},
   "outputs": [],
   "source": []
  }
 ],
 "metadata": {
  "kernelspec": {
   "display_name": "Python 3 (ipykernel)",
   "language": "python",
   "name": "python3"
  },
  "language_info": {
   "codemirror_mode": {
    "name": "ipython",
    "version": 3
   },
   "file_extension": ".py",
   "mimetype": "text/x-python",
   "name": "python",
   "nbconvert_exporter": "python",
   "pygments_lexer": "ipython3",
   "version": "3.7.9"
  }
 },
 "nbformat": 4,
 "nbformat_minor": 5
}
